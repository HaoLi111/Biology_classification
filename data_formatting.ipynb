{
 "cells": [
  {
   "cell_type": "markdown",
   "metadata": {},
   "source": [
    "# Biological Classification problem with phenotype\n",
    "\n",
    "Note: I don't own the data. It is gitignored to protect patent"
   ]
  },
  {
   "cell_type": "code",
   "execution_count": null,
   "metadata": {},
   "outputs": [],
   "source": [
    "import pandas as pd\n",
    "\n",
    "df = pd.read_csv(\"plant_traits_espece_ee.csv\")\n",
    "df.columns = ['organs', 'trait', 'trait_code', 'finer_code/detail'] + df.columns.to_list()[4:]\n",
    "df = df.transpose()\n",
    "df = df.reset_index()\n",
    "\n",
    "n = len(df.iloc[0])\n",
    "\n",
    "import numpy as np\n",
    "\n",
    "# p_organs, p_trait, p_trait_code = [np.nan] * 3\n",
    "\n",
    "\n",
    "for j in range(5, n):\n",
    "    if pd.isnull(df.iloc[0, j]):\n",
    "        df.iloc[0, j] = p_organs\n",
    "    else:\n",
    "        p_organs = df.iloc[0, j]\n",
    "    \n",
    "    if pd.isnull(df.iloc[1, j]):\n",
    "        df.iloc[1, j] = p_trait\n",
    "    else:\n",
    "        p_trait = df.iloc[1, j]\n",
    "\n",
    "    if pd.isnull(df.iloc[2, j]):\n",
    "        df.iloc[2, j] = p_trait_code\n",
    "    else:\n",
    "        p_trait_code = df.iloc[2, j]\n",
    "\n",
    "\n",
    "    df.iloc[3, j] = \">\".join(map(str, (p_organs, p_trait, p_trait_code)))\n",
    "\n",
    "df.iloc[0:3,4] = np.nan\n",
    "\n",
    "\n",
    "df2 = df.iloc[3:,:]\n",
    "# df2[0] = df2[0].astype(str)\n",
    "df2.iloc[0,0] = 'organs>trait>trait_code>detail'\n",
    "new_header = df2.iloc[0]\n",
    "df2 = df2[1:] \n",
    "df2.columns = new_header\n",
    "# df2"
   ]
  },
  {
   "cell_type": "code",
   "execution_count": 43,
   "metadata": {},
   "outputs": [
    {
     "data": {
      "text/html": [
       "<div>\n",
       "<style scoped>\n",
       "    .dataframe tbody tr th:only-of-type {\n",
       "        vertical-align: middle;\n",
       "    }\n",
       "\n",
       "    .dataframe tbody tr th {\n",
       "        vertical-align: top;\n",
       "    }\n",
       "\n",
       "    .dataframe thead th {\n",
       "        text-align: right;\n",
       "    }\n",
       "</style>\n",
       "<table border=\"1\" class=\"dataframe\">\n",
       "  <thead>\n",
       "    <tr style=\"text-align: right;\">\n",
       "      <th>3</th>\n",
       "      <th>organs&gt;trait&gt;trait_code&gt;detail</th>\n",
       "      <th>Family</th>\n",
       "      <th>UICN</th>\n",
       "      <th>Commentaire</th>\n",
       "      <th>detail</th>\n",
       "      <th>uicn&gt;statut_uicn&gt;nan</th>\n",
       "      <th>uicn&gt;statut_uicn&gt;nan</th>\n",
       "      <th>uicn&gt;statut_uicn&gt;nan</th>\n",
       "      <th>uicn&gt;statut_uicn&gt;nan</th>\n",
       "      <th>uicn&gt;statut_uicn&gt;nan</th>\n",
       "      <th>...</th>\n",
       "      <th>usage&gt;seed.poisonous&gt;staminal.tube</th>\n",
       "      <th>usage&gt;seed.poisonous&gt;staminal.tube</th>\n",
       "      <th>usage&gt;agro-forestry&gt;staminal.tube</th>\n",
       "      <th>usage&gt;agro-forestry&gt;staminal.tube</th>\n",
       "      <th>usage&gt;usage.dyeing&gt;staminal.tube</th>\n",
       "      <th>usage&gt;usage.dyeing&gt;staminal.tube</th>\n",
       "      <th>usage&gt;usage.material&gt;staminal.tube</th>\n",
       "      <th>usage&gt;usage.material&gt;staminal.tube</th>\n",
       "      <th>usage&gt;clothing&gt;staminal.tube</th>\n",
       "      <th>usage&gt;clothing&gt;staminal.tube</th>\n",
       "    </tr>\n",
       "  </thead>\n",
       "  <tbody>\n",
       "    <tr>\n",
       "      <th>15</th>\n",
       "      <td>Anthonotha crassifolia</td>\n",
       "      <td>Fabaceae</td>\n",
       "      <td>NaN</td>\n",
       "      <td>pas de données dans prota, no image sur http:/...</td>\n",
       "      <td>NaN</td>\n",
       "      <td>NaN</td>\n",
       "      <td>NaN</td>\n",
       "      <td>NaN</td>\n",
       "      <td>NaN</td>\n",
       "      <td>NaN</td>\n",
       "      <td>...</td>\n",
       "      <td>NaN</td>\n",
       "      <td>NaN</td>\n",
       "      <td>NaN</td>\n",
       "      <td>NaN</td>\n",
       "      <td>NaN</td>\n",
       "      <td>NaN</td>\n",
       "      <td>x</td>\n",
       "      <td>NaN</td>\n",
       "      <td>NaN</td>\n",
       "      <td>NaN</td>\n",
       "    </tr>\n",
       "  </tbody>\n",
       "</table>\n",
       "<p>1 rows × 642 columns</p>\n",
       "</div>"
      ],
      "text/plain": [
       "3  organs>trait>trait_code>detail    Family UICN  \\\n",
       "15         Anthonotha crassifolia  Fabaceae  NaN   \n",
       "\n",
       "3                                         Commentaire detail  \\\n",
       "15  pas de données dans prota, no image sur http:/...    NaN   \n",
       "\n",
       "3  uicn>statut_uicn>nan uicn>statut_uicn>nan uicn>statut_uicn>nan  \\\n",
       "15                  NaN                  NaN                  NaN   \n",
       "\n",
       "3  uicn>statut_uicn>nan uicn>statut_uicn>nan  ...  \\\n",
       "15                  NaN                  NaN  ...   \n",
       "\n",
       "3  usage>seed.poisonous>staminal.tube usage>seed.poisonous>staminal.tube  \\\n",
       "15                                NaN                                NaN   \n",
       "\n",
       "3  usage>agro-forestry>staminal.tube usage>agro-forestry>staminal.tube  \\\n",
       "15                               NaN                               NaN   \n",
       "\n",
       "3  usage>usage.dyeing>staminal.tube usage>usage.dyeing>staminal.tube  \\\n",
       "15                              NaN                              NaN   \n",
       "\n",
       "3  usage>usage.material>staminal.tube usage>usage.material>staminal.tube  \\\n",
       "15                                  x                                NaN   \n",
       "\n",
       "3  usage>clothing>staminal.tube usage>clothing>staminal.tube  \n",
       "15                          NaN                          NaN  \n",
       "\n",
       "[1 rows x 642 columns]"
      ]
     },
     "execution_count": 43,
     "metadata": {},
     "output_type": "execute_result"
    }
   ],
   "source": [
    "df2.iloc[~pd.isnull(df2['usage>usage.material>staminal.tube'].values)]"
   ]
  },
  {
   "cell_type": "markdown",
   "metadata": {},
   "source": [
    "Prediction(without reweighting)\n",
    "the family don't share that much info, and the result is poor due to insufficient data."
   ]
  },
  {
   "cell_type": "code",
   "execution_count": 154,
   "metadata": {},
   "outputs": [
    {
     "data": {
      "text/plain": [
       "(0.625,)"
      ]
     },
     "execution_count": 154,
     "metadata": {},
     "output_type": "execute_result"
    }
   ],
   "source": [
    "df_w_label = df2.dropna(subset='Family')\n",
    "df_w_label.iloc[:,5:] = [[df_w_label.iloc[i,j] if pd.isnull(df_w_label.iloc[i,j]) else 1 for j in range(5,n)] for i in range(len(df_w_label))]\n",
    "X = df_w_label.iloc[:,5:]\n",
    "y = df_w_label['Family']\n",
    "\n",
    "# from sklearn.naive_bayes import MultinomialNB\n",
    "from sklearn.ensemble import HistGradientBoostingClassifier, RandomForestClassifier\n",
    "# from sklearn.tree import DecisionTreeClassifier\n",
    "m = RandomForestClassifier(n_jobs=4, random_state=3)\n",
    "\n",
    "from sklearn.model_selection import train_test_split\n",
    "from sklearn.metrics import confusion_matrix, accuracy_score, log_loss\n",
    "\n",
    "\n",
    "X_train,  X_test,y_train, y_test = train_test_split(X, y, test_size=.5, random_state=3)# stratify=y)\n",
    "# print(X_train)\n",
    "# print(y_train)\n",
    "m.fit(X_train, y_train)\n",
    "y_pred = m.predict(X_test)\n",
    "y_prob = m.predict_proba(X_test)\n",
    "y_prob ={m.classes_[i]:[y_prob[j][i]for j in range(len(y_prob))] for i in range(len(m.classes_))} \n",
    "\n",
    "\n",
    "perf = accuracy_score(y_test, y_pred)\n",
    "conf = confusion_matrix(y_test, y_pred)\n",
    "# log_loss(y_test, y_prob)\n",
    "perf,# conf\n",
    "\n"
   ]
  },
  {
   "cell_type": "code",
   "execution_count": 155,
   "metadata": {},
   "outputs": [
    {
     "data": {
      "text/plain": [
       "{'APTANDRACEAE (Olacaceae)': [0.11, 0.11, 0.12, 0.12, 0.12, 0.12, 0.11, 0.11],\n",
       " 'Annonaceae': [0.25, 0.24, 0.25, 0.24, 0.26, 0.24, 0.25, 0.25],\n",
       " 'Combretaceae': [0.2, 0.24, 0.18, 0.19, 0.2, 0.19, 0.22, 0.21],\n",
       " 'Fabaceae': [0.28, 0.29, 0.31, 0.32, 0.27, 0.29, 0.28, 0.28],\n",
       " 'Rutaceae': [0.16, 0.12, 0.14, 0.13, 0.15, 0.16, 0.14, 0.15]}"
      ]
     },
     "execution_count": 155,
     "metadata": {},
     "output_type": "execute_result"
    }
   ],
   "source": [
    "y_prob"
   ]
  },
  {
   "cell_type": "code",
   "execution_count": 143,
   "metadata": {},
   "outputs": [
    {
     "data": {
      "text/plain": [
       "array(['APTANDRACEAE (Olacaceae)', 'Annonaceae', 'Combretaceae',\n",
       "       'Fabaceae', 'Rutaceae'], dtype=object)"
      ]
     },
     "execution_count": 143,
     "metadata": {},
     "output_type": "execute_result"
    }
   ],
   "source": [
    "m.classes_"
   ]
  },
  {
   "cell_type": "code",
   "execution_count": null,
   "metadata": {},
   "outputs": [],
   "source": []
  }
 ],
 "metadata": {
  "kernelspec": {
   "display_name": "llm2",
   "language": "python",
   "name": "python3"
  },
  "language_info": {
   "codemirror_mode": {
    "name": "ipython",
    "version": 3
   },
   "file_extension": ".py",
   "mimetype": "text/x-python",
   "name": "python",
   "nbconvert_exporter": "python",
   "pygments_lexer": "ipython3",
   "version": "3.10.10"
  }
 },
 "nbformat": 4,
 "nbformat_minor": 2
}
