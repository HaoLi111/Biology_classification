{
 "cells": [
  {
   "cell_type": "markdown",
   "metadata": {},
   "source": [
    "# Biological Classification problem with phenotype\n",
    "\n",
    "Note: I don't own the data. It is gitignored to protect patent"
   ]
  },
  {
   "cell_type": "code",
   "execution_count": null,
   "metadata": {},
   "outputs": [],
   "source": [
    "import pandas as pd\n",
    "\n",
    "df = pd.read_csv(\"plant_traits_espece_ee.csv\")\n",
    "df.columns = ['organs', 'trait', 'trait_code', 'finer_code/detail'] + df.columns.to_list()[4:]\n",
    "df = df.transpose()\n",
    "df = df.reset_index()\n",
    "\n",
    "n = len(df.iloc[0])\n",
    "\n",
    "import numpy as np\n",
    "\n",
    "# p_organs, p_trait, p_trait_code = [np.nan] * 3\n",
    "\n",
    "\n",
    "for j in range(5, n):\n",
    "    if pd.isnull(df.iloc[0, j]):\n",
    "        df.iloc[0, j] = p_organs\n",
    "    else:\n",
    "        p_organs = df.iloc[0, j]\n",
    "    \n",
    "    if pd.isnull(df.iloc[1, j]):\n",
    "        df.iloc[1, j] = p_trait\n",
    "    else:\n",
    "        p_trait = df.iloc[1, j]\n",
    "\n",
    "    if pd.isnull(df.iloc[2, j]):\n",
    "        df.iloc[2, j] = p_trait_code\n",
    "    else:\n",
    "        p_trait_code = df.iloc[2, j]\n",
    "\n",
    "\n",
    "    df.iloc[3, j] = \">\".join(map(str, (p_organs, p_trait, p_trait_code)))\n",
    "\n",
    "df.iloc[0:3,4] = np.nan\n",
    "\n",
    "\n",
    "df2 = df.iloc[3:,:]\n",
    "# df2[0] = df2[0].astype(str)\n",
    "df2.iloc[0,0] = 'organs>trait>trait_code>detail'\n",
    "new_header = df2.iloc[0]\n",
    "df2 = df2[1:] \n",
    "df2.columns = new_header\n",
    "# df2"
   ]
  },
  {
   "cell_type": "markdown",
   "metadata": {},
   "source": [
    "we can do some direct filtering"
   ]
  },
  {
   "cell_type": "code",
   "execution_count": 43,
   "metadata": {},
   "outputs": [
    {
     "data": {
      "text/html": [
       "<div>\n",
       "<style scoped>\n",
       "    .dataframe tbody tr th:only-of-type {\n",
       "        vertical-align: middle;\n",
       "    }\n",
       "\n",
       "    .dataframe tbody tr th {\n",
       "        vertical-align: top;\n",
       "    }\n",
       "\n",
       "    .dataframe thead th {\n",
       "        text-align: right;\n",
       "    }\n",
       "</style>\n",
       "<table border=\"1\" class=\"dataframe\">\n",
       "  <thead>\n",
       "    <tr style=\"text-align: right;\">\n",
       "      <th>3</th>\n",
       "      <th>organs&gt;trait&gt;trait_code&gt;detail</th>\n",
       "      <th>Family</th>\n",
       "      <th>UICN</th>\n",
       "      <th>Commentaire</th>\n",
       "      <th>detail</th>\n",
       "      <th>uicn&gt;statut_uicn&gt;nan</th>\n",
       "      <th>uicn&gt;statut_uicn&gt;nan</th>\n",
       "      <th>uicn&gt;statut_uicn&gt;nan</th>\n",
       "      <th>uicn&gt;statut_uicn&gt;nan</th>\n",
       "      <th>uicn&gt;statut_uicn&gt;nan</th>\n",
       "      <th>...</th>\n",
       "      <th>usage&gt;seed.poisonous&gt;staminal.tube</th>\n",
       "      <th>usage&gt;seed.poisonous&gt;staminal.tube</th>\n",
       "      <th>usage&gt;agro-forestry&gt;staminal.tube</th>\n",
       "      <th>usage&gt;agro-forestry&gt;staminal.tube</th>\n",
       "      <th>usage&gt;usage.dyeing&gt;staminal.tube</th>\n",
       "      <th>usage&gt;usage.dyeing&gt;staminal.tube</th>\n",
       "      <th>usage&gt;usage.material&gt;staminal.tube</th>\n",
       "      <th>usage&gt;usage.material&gt;staminal.tube</th>\n",
       "      <th>usage&gt;clothing&gt;staminal.tube</th>\n",
       "      <th>usage&gt;clothing&gt;staminal.tube</th>\n",
       "    </tr>\n",
       "  </thead>\n",
       "  <tbody>\n",
       "    <tr>\n",
       "      <th>15</th>\n",
       "      <td>Anthonotha crassifolia</td>\n",
       "      <td>Fabaceae</td>\n",
       "      <td>NaN</td>\n",
       "      <td>pas de données dans prota, no image sur http:/...</td>\n",
       "      <td>NaN</td>\n",
       "      <td>NaN</td>\n",
       "      <td>NaN</td>\n",
       "      <td>NaN</td>\n",
       "      <td>NaN</td>\n",
       "      <td>NaN</td>\n",
       "      <td>...</td>\n",
       "      <td>NaN</td>\n",
       "      <td>NaN</td>\n",
       "      <td>NaN</td>\n",
       "      <td>NaN</td>\n",
       "      <td>NaN</td>\n",
       "      <td>NaN</td>\n",
       "      <td>x</td>\n",
       "      <td>NaN</td>\n",
       "      <td>NaN</td>\n",
       "      <td>NaN</td>\n",
       "    </tr>\n",
       "  </tbody>\n",
       "</table>\n",
       "<p>1 rows × 642 columns</p>\n",
       "</div>"
      ],
      "text/plain": [
       "3  organs>trait>trait_code>detail    Family UICN  \\\n",
       "15         Anthonotha crassifolia  Fabaceae  NaN   \n",
       "\n",
       "3                                         Commentaire detail  \\\n",
       "15  pas de données dans prota, no image sur http:/...    NaN   \n",
       "\n",
       "3  uicn>statut_uicn>nan uicn>statut_uicn>nan uicn>statut_uicn>nan  \\\n",
       "15                  NaN                  NaN                  NaN   \n",
       "\n",
       "3  uicn>statut_uicn>nan uicn>statut_uicn>nan  ...  \\\n",
       "15                  NaN                  NaN  ...   \n",
       "\n",
       "3  usage>seed.poisonous>staminal.tube usage>seed.poisonous>staminal.tube  \\\n",
       "15                                NaN                                NaN   \n",
       "\n",
       "3  usage>agro-forestry>staminal.tube usage>agro-forestry>staminal.tube  \\\n",
       "15                               NaN                               NaN   \n",
       "\n",
       "3  usage>usage.dyeing>staminal.tube usage>usage.dyeing>staminal.tube  \\\n",
       "15                              NaN                              NaN   \n",
       "\n",
       "3  usage>usage.material>staminal.tube usage>usage.material>staminal.tube  \\\n",
       "15                                  x                                NaN   \n",
       "\n",
       "3  usage>clothing>staminal.tube usage>clothing>staminal.tube  \n",
       "15                          NaN                          NaN  \n",
       "\n",
       "[1 rows x 642 columns]"
      ]
     },
     "execution_count": 43,
     "metadata": {},
     "output_type": "execute_result"
    }
   ],
   "source": [
    "df2.iloc[~pd.isnull(df2['usage>usage.material>staminal.tube'].values)]"
   ]
  },
  {
   "cell_type": "markdown",
   "metadata": {},
   "source": [
    "Prediction(without reweighting)\n",
    "the family don't share that much info, and the result is poor due to insufficient data."
   ]
  },
  {
   "cell_type": "code",
   "execution_count": 154,
   "metadata": {},
   "outputs": [
    {
     "data": {
      "text/plain": [
       "(0.625,)"
      ]
     },
     "execution_count": 154,
     "metadata": {},
     "output_type": "execute_result"
    }
   ],
   "source": [
    "df_w_label = df2.dropna(subset='Family')\n",
    "df_w_label.iloc[:,5:] = [[df_w_label.iloc[i,j] if pd.isnull(df_w_label.iloc[i,j]) else 1 for j in range(5,n)] for i in range(len(df_w_label))]\n",
    "X = df_w_label.iloc[:,5:]\n",
    "y = df_w_label['Family']\n",
    "\n",
    "# from sklearn.naive_bayes import MultinomialNB\n",
    "from sklearn.ensemble import HistGradientBoostingClassifier, RandomForestClassifier\n",
    "# from sklearn.tree import DecisionTreeClassifier\n",
    "m = RandomForestClassifier(n_jobs=4, random_state=3)\n",
    "\n",
    "from sklearn.model_selection import train_test_split\n",
    "from sklearn.metrics import confusion_matrix, accuracy_score, log_loss\n",
    "\n",
    "\n",
    "X_train,  X_test,y_train, y_test = train_test_split(X, y, test_size=.5, random_state=3)# stratify=y)\n",
    "# print(X_train)\n",
    "# print(y_train)\n",
    "m.fit(X_train, y_train)\n",
    "y_pred = m.predict(X_test)\n",
    "y_prob = m.predict_proba(X_test)\n",
    "y_prob ={m.classes_[i]:[y_prob[j][i]for j in range(len(y_prob))] for i in range(len(m.classes_))} \n",
    "\n",
    "\n",
    "perf = accuracy_score(y_test, y_pred)\n",
    "conf = confusion_matrix(y_test, y_pred)\n",
    "# log_loss(y_test, y_prob)\n",
    "perf,# conf\n",
    "\n"
   ]
  },
  {
   "cell_type": "code",
   "execution_count": 155,
   "metadata": {},
   "outputs": [
    {
     "data": {
      "text/plain": [
       "{'APTANDRACEAE (Olacaceae)': [0.11, 0.11, 0.12, 0.12, 0.12, 0.12, 0.11, 0.11],\n",
       " 'Annonaceae': [0.25, 0.24, 0.25, 0.24, 0.26, 0.24, 0.25, 0.25],\n",
       " 'Combretaceae': [0.2, 0.24, 0.18, 0.19, 0.2, 0.19, 0.22, 0.21],\n",
       " 'Fabaceae': [0.28, 0.29, 0.31, 0.32, 0.27, 0.29, 0.28, 0.28],\n",
       " 'Rutaceae': [0.16, 0.12, 0.14, 0.13, 0.15, 0.16, 0.14, 0.15]}"
      ]
     },
     "execution_count": 155,
     "metadata": {},
     "output_type": "execute_result"
    }
   ],
   "source": [
    "y_prob"
   ]
  },
  {
   "cell_type": "code",
   "execution_count": 143,
   "metadata": {},
   "outputs": [
    {
     "data": {
      "text/plain": [
       "array(['APTANDRACEAE (Olacaceae)', 'Annonaceae', 'Combretaceae',\n",
       "       'Fabaceae', 'Rutaceae'], dtype=object)"
      ]
     },
     "execution_count": 143,
     "metadata": {},
     "output_type": "execute_result"
    }
   ],
   "source": [
    "m.classes_"
   ]
  },
  {
   "cell_type": "markdown",
   "metadata": {},
   "source": [
    "This is not valid because the classifier is ignoring all missings and there is no 2 values for non nas. Here we think na= false, redo it"
   ]
  },
  {
   "cell_type": "code",
   "execution_count": 157,
   "metadata": {},
   "outputs": [
    {
     "data": {
      "text/plain": [
       "(0.5,)"
      ]
     },
     "execution_count": 157,
     "metadata": {},
     "output_type": "execute_result"
    }
   ],
   "source": [
    "df_w_label = df2.dropna(subset='Family')\n",
    "df_w_label.iloc[:,5:] = [[0 if pd.isnull(df_w_label.iloc[i,j]) else 1 for j in range(5,n)] for i in range(len(df_w_label))]\n",
    "X = df_w_label.iloc[:,5:]\n",
    "y = df_w_label['Family']\n",
    "\n",
    "# from sklearn.naive_bayes import MultinomialNB\n",
    "from sklearn.ensemble import HistGradientBoostingClassifier, RandomForestClassifier\n",
    "# from sklearn.tree import DecisionTreeClassifier\n",
    "m = RandomForestClassifier(n_jobs=4, random_state=3)\n",
    "\n",
    "from sklearn.model_selection import train_test_split\n",
    "from sklearn.metrics import confusion_matrix, accuracy_score, log_loss\n",
    "\n",
    "\n",
    "X_train,  X_test,y_train, y_test = train_test_split(X, y, test_size=.5, random_state=3)# stratify=y)\n",
    "# print(X_train)\n",
    "# print(y_train)\n",
    "m.fit(X_train, y_train)\n",
    "y_pred = m.predict(X_test)\n",
    "y_prob = m.predict_proba(X_test)\n",
    "y_prob ={m.classes_[i]:[y_prob[j][i]for j in range(len(y_prob))] for i in range(len(m.classes_))} \n",
    "\n",
    "\n",
    "perf = accuracy_score(y_test, y_pred)\n",
    "conf = confusion_matrix(y_test, y_pred)\n",
    "# log_loss(y_test, y_prob)\n",
    "perf,# conf\n",
    "\n"
   ]
  },
  {
   "cell_type": "markdown",
   "metadata": {},
   "source": [
    "here 50% probability we get correct family, is this bad? somewhat, but remember we get more than 2 classes.\n",
    "now we want to formulate this as stepwise question\n"
   ]
  },
  {
   "cell_type": "code",
   "execution_count": 159,
   "metadata": {},
   "outputs": [
    {
     "data": {
      "text/plain": [
       "(0.375,)"
      ]
     },
     "execution_count": 159,
     "metadata": {},
     "output_type": "execute_result"
    }
   ],
   "source": [
    "df_w_label = df2.dropna(subset='Family')\n",
    "df_w_label.iloc[:,5:] = [[0 if pd.isnull(df_w_label.iloc[i,j]) else 1 for j in range(5,n)] for i in range(len(df_w_label))]\n",
    "X = df_w_label.iloc[:,5:]\n",
    "y = df_w_label['Family']\n",
    "\n",
    "# from sklearn.naive_bayes import MultinomialNB\n",
    "from sklearn.ensemble import HistGradientBoostingClassifier, RandomForestClassifier\n",
    "from sklearn.tree import DecisionTreeClassifier, plot_tree\n",
    "m = DecisionTreeClassifier()\n",
    "\n",
    "from sklearn.model_selection import train_test_split\n",
    "from sklearn.metrics import confusion_matrix, accuracy_score, log_loss\n",
    "\n",
    "\n",
    "X_train,  X_test,y_train, y_test = train_test_split(X, y, test_size=.5, random_state=3)# stratify=y)\n",
    "# print(X_train)\n",
    "# print(y_train)\n",
    "m.fit(X_train, y_train)\n",
    "y_pred = m.predict(X_test)\n",
    "y_prob = m.predict_proba(X_test)\n",
    "y_prob ={m.classes_[i]:[y_prob[j][i]for j in range(len(y_prob))] for i in range(len(m.classes_))} \n",
    "\n",
    "\n",
    "perf = accuracy_score(y_test, y_pred)\n",
    "conf = confusion_matrix(y_test, y_pred)\n",
    "# log_loss(y_test, y_prob)\n",
    "perf,# conf\n",
    "\n"
   ]
  },
  {
   "cell_type": "code",
   "execution_count": 160,
   "metadata": {},
   "outputs": [
    {
     "data": {
      "text/plain": [
       "[Text(0.625, 0.875, 'x[536] <= 0.5\\ngini = 0.735\\nsamples = 7\\nvalue = [1, 1, 1, 3, 1]'),\n",
       " Text(0.5, 0.625, 'x[435] <= 0.5\\ngini = 0.75\\nsamples = 4\\nvalue = [1, 1, 1, 0, 1]'),\n",
       " Text(0.5625, 0.75, 'True  '),\n",
       " Text(0.25, 0.375, 'x[9] <= 0.5\\ngini = 0.5\\nsamples = 2\\nvalue = [0, 1, 0, 0, 1]'),\n",
       " Text(0.125, 0.125, 'gini = 0.0\\nsamples = 1\\nvalue = [0, 0, 0, 0, 1]'),\n",
       " Text(0.375, 0.125, 'gini = 0.0\\nsamples = 1\\nvalue = [0, 1, 0, 0, 0]'),\n",
       " Text(0.75, 0.375, 'x[168] <= 0.5\\ngini = 0.5\\nsamples = 2\\nvalue = [1, 0, 1, 0, 0]'),\n",
       " Text(0.625, 0.125, 'gini = 0.0\\nsamples = 1\\nvalue = [1, 0, 0, 0, 0]'),\n",
       " Text(0.875, 0.125, 'gini = 0.0\\nsamples = 1\\nvalue = [0, 0, 1, 0, 0]'),\n",
       " Text(0.75, 0.625, 'gini = 0.0\\nsamples = 3\\nvalue = [0, 0, 0, 3, 0]'),\n",
       " Text(0.6875, 0.75, '  False')]"
      ]
     },
     "execution_count": 160,
     "metadata": {},
     "output_type": "execute_result"
    },
    {
     "data": {
      "image/png": "[encoded data removed]",
      "text/plain": [
       "<Figure size 640x480 with 1 Axes>"
      ]
     },
     "metadata": {},
     "output_type": "display_data"
    }
   ],
   "source": [
    "plot_tree(m)"
   ]
  },
  {
   "cell_type": "markdown",
   "metadata": {},
   "source": [
    "We build a sequence of entities"
   ]
  },
  {
   "cell_type": "code",
   "execution_count": 181,
   "metadata": {},
   "outputs": [],
   "source": [
    "import re\n",
    "property_words = set(sum(list(map(lambda s: re.split('>', s),df2.columns.tolist())), []))\n",
    "species_words = set(sum(list(map(lambda s: re.split('\\s', s),df2.iloc[:,0].values)), []))\n",
    "species_words ,property_words\n",
    "\n",
    "all_words = species_words.union(property_words)\n"
   ]
  },
  {
   "cell_type": "code",
   "execution_count": null,
   "metadata": {},
   "outputs": [],
   "source": []
  },
  {
   "cell_type": "markdown",
   "metadata": {},
   "source": [
    "We can also account for mistyping or synonyms. In case for so many terms, one may have misspelled. \n",
    "Make a bench mark by sorting Levishtin edit distance to account for misspelled word.\n",
    "\n",
    "let's try to see if there are 'usages'"
   ]
  },
  {
   "cell_type": "code",
   "execution_count": 182,
   "metadata": {},
   "outputs": [
    {
     "name": "stdout",
     "output_type": "stream",
     "text": [
      "Collecting editdistance\n",
      "  Downloading editdistance-0.8.1-cp310-cp310-manylinux_2_17_x86_64.manylinux2014_x86_64.whl.metadata (3.9 kB)\n",
      "Downloading editdistance-0.8.1-cp310-cp310-manylinux_2_17_x86_64.manylinux2014_x86_64.whl (401 kB)\n",
      "\u001b[2K   \u001b[90m━━━━━━━━━━━━━━━━━━━━━━━━━━━━━━━━━━━━━━━━\u001b[0m \u001b[32m401.8/401.8 kB\u001b[0m \u001b[31m14.5 MB/s\u001b[0m eta \u001b[36m0:00:00\u001b[0m\n",
      "\u001b[?25hInstalling collected packages: editdistance\n",
      "Successfully installed editdistance-0.8.1\n"
     ]
    }
   ],
   "source": [
    "# !pip install editdistance"
   ]
  },
  {
   "cell_type": "code",
   "execution_count": 212,
   "metadata": {},
   "outputs": [
    {
     "name": "stdout",
     "output_type": "stream",
     "text": [
      "usage 1\n",
      "Elaeis 4\n",
      "patens 4\n",
      "usage.med 4\n",
      "seed 4\n"
     ]
    }
   ],
   "source": [
    "import editdistance\n",
    "\n",
    "query = 'usages'\n",
    "\n",
    "distances = list(map(lambda word: editdistance.eval(query, word), list(all_words)))\n",
    "\n",
    "rank = np.argsort(distances)\n",
    "for i in range(5):\n",
    "    print(list(all_words)[rank[i]], distances[rank[i]])\n"
   ]
  },
  {
   "cell_type": "markdown",
   "metadata": {},
   "source": [
    "can also do a spell check with this "
   ]
  },
  {
   "cell_type": "code",
   "execution_count": null,
   "metadata": {},
   "outputs": [],
   "source": [
    "# !pip install sentence-transformers"
   ]
  },
  {
   "cell_type": "code",
   "execution_count": 213,
   "metadata": {},
   "outputs": [
    {
     "name": "stderr",
     "output_type": "stream",
     "text": [
      "/home/hao000/anaconda3/envs/llm2/lib/python3.10/site-packages/sentence_transformers/cross_encoder/CrossEncoder.py:11: TqdmExperimentalWarning: Using `tqdm.autonotebook.tqdm` in notebook mode. Use `tqdm.tqdm` instead to force console mode (e.g. in jupyter console)\n",
      "  from tqdm.autonotebook import tqdm, trange\n"
     ]
    },
    {
     "data": {
      "application/vnd.jupyter.widget-view+json": {
       "model_id": "2397b46b0c9e4b83a19ac5cf2ed9a417",
       "version_major": 2,
       "version_minor": 0
      },
      "text/plain": [
       "modules.json:   0%|          | 0.00/461 [00:00<?, ?B/s]"
      ]
     },
     "metadata": {},
     "output_type": "display_data"
    },
    {
     "data": {
      "application/vnd.jupyter.widget-view+json": {
       "model_id": "9e4115bcd1ce4e13b71aecbd85d3679a",
       "version_major": 2,
       "version_minor": 0
      },
      "text/plain": [
       "config_sentence_transformers.json:   0%|          | 0.00/122 [00:00<?, ?B/s]"
      ]
     },
     "metadata": {},
     "output_type": "display_data"
    },
    {
     "data": {
      "application/vnd.jupyter.widget-view+json": {
       "model_id": "adff04d5014a444ea91c23f0f06d2d0f",
       "version_major": 2,
       "version_minor": 0
      },
      "text/plain": [
       "README.md:   0%|          | 0.00/2.22k [00:00<?, ?B/s]"
      ]
     },
     "metadata": {},
     "output_type": "display_data"
    },
    {
     "data": {
      "application/vnd.jupyter.widget-view+json": {
       "model_id": "5d747139ae4b471d936d56cb656c3d43",
       "version_major": 2,
       "version_minor": 0
      },
      "text/plain": [
       "sentence_bert_config.json:   0%|          | 0.00/53.0 [00:00<?, ?B/s]"
      ]
     },
     "metadata": {},
     "output_type": "display_data"
    },
    {
     "data": {
      "application/vnd.jupyter.widget-view+json": {
       "model_id": "d902e8ec578d44938ace9b259fcb3428",
       "version_major": 2,
       "version_minor": 0
      },
      "text/plain": [
       "config.json:   0%|          | 0.00/804 [00:00<?, ?B/s]"
      ]
     },
     "metadata": {},
     "output_type": "display_data"
    },
    {
     "data": {
      "application/vnd.jupyter.widget-view+json": {
       "model_id": "55dc509f89b74c3ebbe1f83b0a6d43ac",
       "version_major": 2,
       "version_minor": 0
      },
      "text/plain": [
       "pytorch_model.bin:   0%|          | 0.00/1.88G [00:00<?, ?B/s]"
      ]
     },
     "metadata": {},
     "output_type": "display_data"
    }
   ],
   "source": [
    "from sentence_transformers import SentenceTransformer\n",
    "sentences = [\"usages\", \"usage\"]\n",
    "\n",
    "model = SentenceTransformer('sentence-transformers/LaBSE')\n",
    "embeddings = model.encode(sentences)\n",
    "print(embeddings)\n"
   ]
  },
  {
   "cell_type": "code",
   "execution_count": null,
   "metadata": {},
   "outputs": [],
   "source": []
  }
 ],
 "metadata": {
  "kernelspec": {
   "display_name": "llm2",
   "language": "python",
   "name": "python3"
  },
  "language_info": {
   "codemirror_mode": {
    "name": "ipython",
    "version": 3
   },
   "file_extension": ".py",
   "mimetype": "text/x-python",
   "name": "python",
   "nbconvert_exporter": "python",
   "pygments_lexer": "ipython3",
   "version": "3.10.10"
  }
 },
 "nbformat": 4,
 "nbformat_minor": 2
}
