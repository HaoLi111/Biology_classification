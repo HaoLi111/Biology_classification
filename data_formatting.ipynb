{
 "cells": [
  {
   "cell_type": "markdown",
   "metadata": {},
   "source": [
    "# Biological Classification problem with phenotype\n",
    "\n",
    "Note: I don't own the data. It is gitignored to protect patent"
   ]
  },
  {
   "cell_type": "code",
   "execution_count": null,
   "metadata": {},
   "outputs": [],
   "source": [
    "import pandas as pd\n",
    "\n",
    "df = pd.read_csv(\"plant_traits_espece_ee.csv\")\n",
    "df.columns = ['organs', 'trait', 'trait_code', 'finer_code/detail'] + df.columns.to_list()[4:]\n",
    "df = df.transpose()\n",
    "df = df.reset_index()\n",
    "\n",
    "n = len(df.iloc[0])\n",
    "\n",
    "import numpy as np\n",
    "\n",
    "# p_organs, p_trait, p_trait_code = [np.nan] * 3\n",
    "\n",
    "\n",
    "for j in range(5, n):\n",
    "    if pd.isnull(df.iloc[0, j]):\n",
    "        df.iloc[0, j] = p_organs\n",
    "    else:\n",
    "        p_organs = df.iloc[0, j]\n",
    "    \n",
    "    if pd.isnull(df.iloc[1, j]):\n",
    "        df.iloc[1, j] = p_trait\n",
    "    else:\n",
    "        p_trait = df.iloc[1, j]\n",
    "\n",
    "    if pd.isnull(df.iloc[2, j]):\n",
    "        df.iloc[2, j] = p_trait_code\n",
    "    else:\n",
    "        p_trait_code = df.iloc[2, j]\n",
    "\n",
    "\n",
    "    df.iloc[3, j] = \">\".join(map(str, (p_organs, p_trait, p_trait_code)))\n",
    "\n",
    "df.iloc[0:3,4] = np.nan\n",
    "\n",
    "\n",
    "df2 = df.iloc[3:,:]\n",
    "# df2[0] = df2[0].astype(str)\n",
    "df2.iloc[0,0] = 'organs>trait>trait_code>detail'\n",
    "new_header = df2.iloc[0]\n",
    "df2 = df2[1:] \n",
    "df2.columns = new_header\n",
    "df2"
   ]
  },
  {
   "cell_type": "code",
   "execution_count": null,
   "metadata": {},
   "outputs": [],
   "source": [
    "df"
   ]
  },
  {
   "cell_type": "code",
   "execution_count": null,
   "metadata": {},
   "outputs": [],
   "source": []
  }
 ],
 "metadata": {
  "kernelspec": {
   "display_name": "llm2",
   "language": "python",
   "name": "python3"
  },
  "language_info": {
   "codemirror_mode": {
    "name": "ipython",
    "version": 3
   },
   "file_extension": ".py",
   "mimetype": "text/x-python",
   "name": "python",
   "nbconvert_exporter": "python",
   "pygments_lexer": "ipython3",
   "version": "3.10.10"
  }
 },
 "nbformat": 4,
 "nbformat_minor": 2
}
